{
 "cells": [
  {
   "cell_type": "markdown",
   "id": "f623d6ee",
   "metadata": {},
   "source": [
    "## Lets read all parquet price data files from the folder that holds the files."
   ]
  },
  {
   "cell_type": "code",
   "execution_count": null,
   "id": "af036d6f",
   "metadata": {},
   "outputs": [],
   "source": [
    "from read_all_parquet_files_in_folder import build_price_and_volume_frames\n",
    "folder_path = r\"C:\\Users\\Lenovo\\Documents\\FinMath UChicago\\Coursework\\FINM 32500 1 Computing for Finance in Python\\Assignment 2\\price_data_by_ticker\"\n",
    "df_price, df_volume = build_price_and_volume_frames(folder_path)\n",
    "\n",
    "print(df_price.head())\n",
    "print(df_volume.head())\n",
    "\n"
   ]
  },
  {
   "cell_type": "code",
   "execution_count": null,
   "id": "ac9aa56b",
   "metadata": {},
   "outputs": [],
   "source": [
    "from Backtester import Backtest\n",
    "Backtest(\"BenchmarkStrategy\", df_price)"
   ]
  }
 ],
 "metadata": {
  "kernelspec": {
   "display_name": "base",
   "language": "python",
   "name": "python3"
  },
  "language_info": {
   "codemirror_mode": {
    "name": "ipython",
    "version": 3
   },
   "file_extension": ".py",
   "mimetype": "text/x-python",
   "name": "python",
   "nbconvert_exporter": "python",
   "pygments_lexer": "ipython3",
   "version": "3.13.5"
  }
 },
 "nbformat": 4,
 "nbformat_minor": 5
}
